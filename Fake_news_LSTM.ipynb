{
 "cells": [
  {
   "cell_type": "code",
   "execution_count": 47,
   "metadata": {},
   "outputs": [
    {
     "data": {
      "text/plain": [
       "(20800, 5)"
      ]
     },
     "execution_count": 47,
     "metadata": {},
     "output_type": "execute_result"
    }
   ],
   "source": [
    "import pandas as pd\n",
    "\n",
    "df = pd.read_csv('train.csv')\n",
    "\n",
    "df.shape"
   ]
  },
  {
   "cell_type": "code",
   "execution_count": 48,
   "metadata": {},
   "outputs": [
    {
     "data": {
      "text/plain": [
       "<AxesSubplot:>"
      ]
     },
     "execution_count": 48,
     "metadata": {},
     "output_type": "execute_result"
    },
    {
     "data": {
      "image/png": "[encoded data removed]",
      "text/plain": [
       "<Figure size 432x288 with 1 Axes>"
      ]
     },
     "metadata": {
      "needs_background": "light"
     },
     "output_type": "display_data"
    }
   ],
   "source": [
    "import seaborn as sns\n",
    "sns.heatmap(df.isnull(),yticklabels=False,cbar=False,cmap='viridis')"
   ]
  },
  {
   "cell_type": "code",
   "execution_count": 49,
   "metadata": {},
   "outputs": [
    {
     "data": {
      "text/plain": [
       "(18285, 5)"
      ]
     },
     "execution_count": 49,
     "metadata": {},
     "output_type": "execute_result"
    }
   ],
   "source": [
    "# dropping Nan values\n",
    "df= df.dropna()\n",
    "df.shape"
   ]
  },
  {
   "cell_type": "code",
   "execution_count": 50,
   "metadata": {},
   "outputs": [
    {
     "data": {
      "text/plain": [
       "(18285, 4)"
      ]
     },
     "execution_count": 50,
     "metadata": {},
     "output_type": "execute_result"
    }
   ],
   "source": [
    "# Independent features\n",
    "X=df.drop('label',axis=1)\n",
    "\n",
    "# Label column\n",
    "y=df['label']\n",
    "\n",
    "X.shape"
   ]
  },
  {
   "cell_type": "code",
   "execution_count": 33,
   "metadata": {},
   "outputs": [],
   "source": [
    "messages = X.copy()\n",
    "messages.reset_index(inplace=True)"
   ]
  },
  {
   "cell_type": "markdown",
   "metadata": {},
   "source": [
    "# Text Preprocessing"
   ]
  },
  {
   "cell_type": "code",
   "execution_count": 34,
   "metadata": {},
   "outputs": [],
   "source": [
    "import nltk\n",
    "import re\n",
    "from nltk.corpus import stopwords\n",
    "from nltk.stem import WordNetLemmatizer\n",
    "wordnet = WordNetLemmatizer()"
   ]
  },
  {
   "cell_type": "code",
   "execution_count": 36,
   "metadata": {},
   "outputs": [],
   "source": [
    "# Dataset Preprocessing\n",
    "corpus = []\n",
    "for i in range (0,len(messages)):\n",
    "    msg =re.sub('[^a-zA-Z]',' ',messages['title'][i]) # Substitute all numeric values and symbols with space ' '\n",
    "    msg =msg.lower().split()\n",
    "    # Eliminating the stop words and stemming others\n",
    "    msg =[wordnet.lemmatize(word) for word in msg if not word in stopwords.words('English')]\n",
    "    msg= ' '.join(msg)\n",
    "    corpus.append(msg)"
   ]
  },
  {
   "cell_type": "markdown",
   "metadata": {},
   "source": [
    "# One Hot Representation"
   ]
  },
  {
   "cell_type": "code",
   "execution_count": 39,
   "metadata": {},
   "outputs": [],
   "source": [
    "voc_size = 5000\n",
    "\n",
    "sent_length = 20\n",
    "\n",
    "# One hot representation and zero padding\n",
    "onehot_repr=[one_hot(words,voc_size)for words in corpus] \n",
    "embedded_docs=pad_sequences(onehot_repr,padding='pre',maxlen=sent_length)"
   ]
  },
  {
   "cell_type": "code",
   "execution_count": 40,
   "metadata": {},
   "outputs": [
    {
     "name": "stdout",
     "output_type": "stream",
     "text": [
      "house dem aide even see comey letter jason chaffetz tweeted\n",
      "[4409, 939, 577, 4568, 2728, 2983, 4692, 4477, 3355, 3695]\n",
      "[   0    0    0    0    0    0    0    0    0    0 4409  939  577 4568\n",
      " 2728 2983 4692 4477 3355 3695]\n"
     ]
    }
   ],
   "source": [
    "print(corpus[0])\n",
    "print(onehot_repr[0])\n",
    "print(embedded_docs[0])"
   ]
  },
  {
   "cell_type": "markdown",
   "metadata": {},
   "source": [
    "# LSTM Model"
   ]
  },
  {
   "cell_type": "code",
   "execution_count": 52,
   "metadata": {},
   "outputs": [],
   "source": [
    "import keras\n",
    "from keras.layers import Embedding\n",
    "from keras.preprocessing.sequence import pad_sequences\n",
    "from keras.models import Sequential\n",
    "from keras.preprocessing.text import one_hot\n",
    "from keras.layers import LSTM\n",
    "from keras.layers import Bidirectional\n",
    "from keras.layers import Dense\n",
    "from keras.layers import Dropout"
   ]
  },
  {
   "cell_type": "code",
   "execution_count": 101,
   "metadata": {},
   "outputs": [],
   "source": [
    "\n",
    "# Creating model\n",
    "embedding_vector_features=40\n",
    "\n",
    "model=Sequential()\n",
    "model.add(Embedding(voc_size,embedding_vector_features,input_length=sent_length))\n",
    "model.add(Dropout(0.3))\n",
    "model.add(LSTM(100, return_sequences=True)) \n",
    "model.add(Dropout(0.3))\n",
    "model.add(Bidirectional(LSTM(100)))\n",
    "model.add(Dropout(0.3))\n",
    "model.add(Dense(1,activation='sigmoid'))\n",
    "model.compile(loss='binary_crossentropy',optimizer='adam',metrics=['accuracy'])"
   ]
  },
  {
   "cell_type": "markdown",
   "metadata": {},
   "source": [
    "# Creating train and test sets"
   ]
  },
  {
   "cell_type": "code",
   "execution_count": 54,
   "metadata": {},
   "outputs": [
    {
     "data": {
      "text/plain": [
       "((18285, 20), (18285,))"
      ]
     },
     "execution_count": 54,
     "metadata": {},
     "output_type": "execute_result"
    }
   ],
   "source": [
    "\n",
    "import numpy as np\n",
    "X_final=np.array(embedded_docs)\n",
    "y_final=np.array(y)\n",
    "\n",
    "\n",
    "X_final.shape,y_final.shape"
   ]
  },
  {
   "cell_type": "code",
   "execution_count": 55,
   "metadata": {},
   "outputs": [],
   "source": [
    "from sklearn.model_selection import train_test_split\n",
    "X_train, X_test, y_train, y_test = train_test_split(X_final, y_final, test_size=0.20, random_state=42)\n"
   ]
  },
  {
   "cell_type": "markdown",
   "metadata": {},
   "source": [
    "# Model Training"
   ]
  },
  {
   "cell_type": "code",
   "execution_count": 102,
   "metadata": {},
   "outputs": [
    {
     "name": "stderr",
     "output_type": "stream",
     "text": [
      "C:\\Users\\mohan\\miniconda3\\envs\\tensorflow\\lib\\site-packages\\tensorflow\\python\\framework\\indexed_slices.py:434: UserWarning: Converting sparse IndexedSlices to a dense Tensor of unknown shape. This may consume a large amount of memory.\n",
      "  \"Converting sparse IndexedSlices to a dense Tensor of unknown shape. \"\n"
     ]
    },
    {
     "name": "stdout",
     "output_type": "stream",
     "text": [
      "Train on 14628 samples, validate on 3657 samples\n",
      "Epoch 1/12\n",
      "14628/14628 [==============================] - 10s 688us/step - loss: 0.3254 - accuracy: 0.8409 - val_loss: 0.2117 - val_accuracy: 0.9087\n",
      "Epoch 2/12\n",
      "14628/14628 [==============================] - 9s 630us/step - loss: 0.1561 - accuracy: 0.9383 - val_loss: 0.2180 - val_accuracy: 0.9054\n",
      "Epoch 3/12\n",
      "14628/14628 [==============================] - 9s 632us/step - loss: 0.1111 - accuracy: 0.9578 - val_loss: 0.2333 - val_accuracy: 0.9076\n",
      "Epoch 4/12\n",
      "14628/14628 [==============================] - 9s 621us/step - loss: 0.0863 - accuracy: 0.9690 - val_loss: 0.2577 - val_accuracy: 0.9051\n",
      "Epoch 5/12\n",
      "14628/14628 [==============================] - 9s 625us/step - loss: 0.0680 - accuracy: 0.9770 - val_loss: 0.3087 - val_accuracy: 0.9040\n",
      "Epoch 6/12\n",
      "14628/14628 [==============================] - 9s 628us/step - loss: 0.0536 - accuracy: 0.9811 - val_loss: 0.3290 - val_accuracy: 0.9024\n",
      "Epoch 7/12\n",
      "14628/14628 [==============================] - 9s 634us/step - loss: 0.0417 - accuracy: 0.9857 - val_loss: 0.3649 - val_accuracy: 0.9054\n",
      "Epoch 8/12\n",
      "14628/14628 [==============================] - 9s 607us/step - loss: 0.0344 - accuracy: 0.9880 - val_loss: 0.3457 - val_accuracy: 0.9054\n",
      "Epoch 9/12\n",
      "14628/14628 [==============================] - 9s 624us/step - loss: 0.0255 - accuracy: 0.9913 - val_loss: 0.4635 - val_accuracy: 0.9054\n",
      "Epoch 10/12\n",
      "14628/14628 [==============================] - 9s 642us/step - loss: 0.0206 - accuracy: 0.9930 - val_loss: 0.4768 - val_accuracy: 0.9054\n",
      "Epoch 11/12\n",
      "14628/14628 [==============================] - 9s 633us/step - loss: 0.0162 - accuracy: 0.9945 - val_loss: 0.4957 - val_accuracy: 0.9076\n",
      "Epoch 12/12\n",
      "14628/14628 [==============================] - 9s 647us/step - loss: 0.0179 - accuracy: 0.9942 - val_loss: 0.5028 - val_accuracy: 0.9043\n"
     ]
    },
    {
     "data": {
      "text/plain": [
       "<keras.callbacks.callbacks.History at 0x2a5664db848>"
      ]
     },
     "execution_count": 102,
     "metadata": {},
     "output_type": "execute_result"
    }
   ],
   "source": [
    "model.fit(X_train,y_train,validation_data=(X_test,y_test),epochs=12,batch_size=64)"
   ]
  },
  {
   "cell_type": "markdown",
   "metadata": {},
   "source": [
    "# Performance Evaluation"
   ]
  },
  {
   "cell_type": "code",
   "execution_count": 103,
   "metadata": {},
   "outputs": [
    {
     "name": "stdout",
     "output_type": "stream",
     "text": [
      "[[1838  244]\n",
      " [ 106 1469]]\n",
      "0.9042931364506426\n"
     ]
    }
   ],
   "source": [
    "model.save('fake_news.h5')\n",
    "\n",
    "y_pred=model.predict_classes(X_test)\n",
    "\n",
    "\n",
    "\n",
    "from sklearn.metrics import confusion_matrix,accuracy_score\n",
    "cm = confusion_matrix(y_test,y_pred)\n",
    "acc = accuracy_score(y_test,y_pred)\n",
    "\n",
    "print(cm)\n",
    "print(acc)"
   ]
  },
  {
   "cell_type": "code",
   "execution_count": null,
   "metadata": {},
   "outputs": [],
   "source": []
  }
 ],
 "metadata": {
  "kernelspec": {
   "display_name": "Python 3",
   "language": "python",
   "name": "python3"
  },
  "language_info": {
   "codemirror_mode": {
    "name": "ipython",
    "version": 3
   },
   "file_extension": ".py",
   "mimetype": "text/x-python",
   "name": "python",
   "nbconvert_exporter": "python",
   "pygments_lexer": "ipython3",
   "version": "3.7.7"
  },
  "varInspector": {
   "cols": {
    "lenName": 16,
    "lenType": 16,
    "lenVar": 40
   },
   "kernels_config": {
    "python": {
     "delete_cmd_postfix": "",
     "delete_cmd_prefix": "del ",
     "library": "var_list.py",
     "varRefreshCmd": "print(var_dic_list())"
    },
    "r": {
     "delete_cmd_postfix": ") ",
     "delete_cmd_prefix": "rm(",
     "library": "var_list.r",
     "varRefreshCmd": "cat(var_dic_list()) "
    }
   },
   "types_to_exclude": [
    "module",
    "function",
    "builtin_function_or_method",
    "instance",
    "_Feature"
   ],
   "window_display": false
  }
 },
 "nbformat": 4,
 "nbformat_minor": 4
}
